{
 "cells": [
  {
   "cell_type": "code",
   "execution_count": 2,
   "id": "4a46b0fa-e34d-4708-8097-85533f10898e",
   "metadata": {},
   "outputs": [
    {
     "name": "stdout",
     "output_type": "stream",
     "text": [
      "round: 0 // Viking army: 4 warriors and Saxon army: 4 warriors\n",
      "Vikings and Saxons are still in the thick of battle.\n",
      "round: 1 // Viking army: 4 warriors and Saxon army: 4 warriors\n",
      "Vikings and Saxons are still in the thick of battle.\n",
      "round: 2 // Viking army: 4 warriors and Saxon army: 4 warriors\n",
      "Vikings and Saxons are still in the thick of battle.\n",
      "round: 3 // Viking army: 4 warriors and Saxon army: 4 warriors\n",
      "Vikings and Saxons are still in the thick of battle.\n",
      "round: 4 // Viking army: 4 warriors and Saxon army: 3 warriors\n",
      "Vikings and Saxons are still in the thick of battle.\n",
      "round: 5 // Viking army: 4 warriors and Saxon army: 3 warriors\n",
      "Vikings and Saxons are still in the thick of battle.\n",
      "round: 6 // Viking army: 3 warriors and Saxon army: 3 warriors\n",
      "Vikings and Saxons are still in the thick of battle.\n",
      "round: 7 // Viking army: 3 warriors and Saxon army: 3 warriors\n",
      "Vikings and Saxons are still in the thick of battle.\n",
      "round: 8 // Viking army: 3 warriors and Saxon army: 2 warriors\n",
      "Vikings and Saxons are still in the thick of battle.\n",
      "round: 9 // Viking army: 3 warriors and Saxon army: 2 warriors\n",
      "Vikings and Saxons are still in the thick of battle.\n",
      "round: 10 // Viking army: 2 warriors and Saxon army: 1 warriors\n",
      "Vikings and Saxons are still in the thick of battle.\n",
      "round: 11 // Viking army: 2 warriors and Saxon army: 0 warriors\n",
      "Vikings have won the war of the century!\n"
     ]
    }
   ],
   "source": [
    "%run wargame.py"
   ]
  }
 ],
 "metadata": {
  "kernelspec": {
   "display_name": "base",
   "language": "python",
   "name": "python3"
  },
  "language_info": {
   "codemirror_mode": {
    "name": "ipython",
    "version": 3
   },
   "file_extension": ".py",
   "mimetype": "text/x-python",
   "name": "python",
   "nbconvert_exporter": "python",
   "pygments_lexer": "ipython3",
   "version": "3.12.7"
  }
 },
 "nbformat": 4,
 "nbformat_minor": 5
}
