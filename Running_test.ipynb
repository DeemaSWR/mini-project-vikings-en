{
 "cells": [
  {
   "cell_type": "code",
   "execution_count": 3,
   "id": "5a062106-3b81-40f9-b028-5cf6b5f1cbb7",
   "metadata": {},
   "outputs": [
    {
     "name": "stdout",
     "output_type": "stream",
     "text": [
      "round: 0 // Viking army: 4 warriors and Saxon army: 4 warriors\n",
      "Vikings and Saxons are still in the thick of battle.\n",
      "round: 1 // Viking army: 4 warriors and Saxon army: 4 warriors\n",
      "Vikings and Saxons are still in the thick of battle.\n",
      "round: 2 // Viking army: 4 warriors and Saxon army: 4 warriors\n",
      "Vikings and Saxons are still in the thick of battle.\n",
      "round: 3 // Viking army: 3 warriors and Saxon army: 3 warriors\n",
      "Vikings and Saxons are still in the thick of battle.\n",
      "round: 4 // Viking army: 3 warriors and Saxon army: 3 warriors\n",
      "Vikings and Saxons are still in the thick of battle.\n",
      "round: 5 // Viking army: 3 warriors and Saxon army: 3 warriors\n",
      "Vikings and Saxons are still in the thick of battle.\n",
      "round: 6 // Viking army: 2 warriors and Saxon army: 3 warriors\n",
      "Vikings and Saxons are still in the thick of battle.\n",
      "round: 7 // Viking army: 1 warriors and Saxon army: 3 warriors\n",
      "Vikings and Saxons are still in the thick of battle.\n",
      "round: 8 // Viking army: 0 warriors and Saxon army: 3 warriors\n",
      "Saxons have fought for their lives and survive another day...\n"
     ]
    }
   ],
   "source": [
    "%run wargame.py\n"
   ]
  },
  {
   "cell_type": "code",
   "execution_count": 9,
   "id": "6a5ee251-20c0-4622-9e24-740d2659936b",
   "metadata": {},
   "outputs": [
    {
     "name": "stdout",
     "output_type": "stream",
     "text": [
      "round: 0 // Viking army: 4 warriors and Saxon army: 4 warriors\n",
      "Vikings and Saxons are still in the thick of battle.\n",
      "round: 1 // Viking army: 4 warriors and Saxon army: 4 warriors\n",
      "Vikings and Saxons are still in the thick of battle.\n",
      "round: 2 // Viking army: 4 warriors and Saxon army: 3 warriors\n",
      "Vikings and Saxons are still in the thick of battle.\n",
      "round: 3 // Viking army: 4 warriors and Saxon army: 3 warriors\n",
      "Vikings and Saxons are still in the thick of battle.\n",
      "round: 4 // Viking army: 4 warriors and Saxon army: 3 warriors\n",
      "Vikings and Saxons are still in the thick of battle.\n",
      "round: 5 // Viking army: 3 warriors and Saxon army: 3 warriors\n",
      "Vikings and Saxons are still in the thick of battle.\n",
      "round: 6 // Viking army: 2 warriors and Saxon army: 3 warriors\n",
      "Vikings and Saxons are still in the thick of battle.\n",
      "round: 7 // Viking army: 1 warriors and Saxon army: 3 warriors\n",
      "Vikings and Saxons are still in the thick of battle.\n",
      "round: 8 // Viking army: 0 warriors and Saxon army: 2 warriors\n",
      "Saxons have fought for their lives and survive another day...\n"
     ]
    }
   ],
   "source": [
    "!python \"C:/Users/deept/SDA Bootcamp/Week 1/mini_project/wargame.py\"\n"
   ]
  }
 ],
 "metadata": {
  "kernelspec": {
   "display_name": "Python 3 (ipykernel)",
   "language": "python",
   "name": "python3"
  },
  "language_info": {
   "codemirror_mode": {
    "name": "ipython",
    "version": 3
   },
   "file_extension": ".py",
   "mimetype": "text/x-python",
   "name": "python",
   "nbconvert_exporter": "python",
   "pygments_lexer": "ipython3",
   "version": "3.12.7"
  }
 },
 "nbformat": 4,
 "nbformat_minor": 5
}
